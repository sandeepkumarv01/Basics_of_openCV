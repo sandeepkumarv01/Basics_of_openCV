{
 "cells": [
  {
   "cell_type": "markdown",
   "metadata": {},
   "source": [
    "### GRAY SCALE IMAGE"
   ]
  },
  {
   "cell_type": "code",
   "execution_count": 2,
   "metadata": {},
   "outputs": [
    {
     "data": {
      "text/plain": [
       "True"
      ]
     },
     "execution_count": 2,
     "metadata": {},
     "output_type": "execute_result"
    }
   ],
   "source": [
    "# Step 1:- Import the required packages\n",
    "import cv2\n",
    "# Step 2:- Load the images\n",
    "img1=cv2.imread(\"Car.jpeg\",1)\n",
    "# Step 3:-  Convert the color into GRAYSCALE\n",
    "gray=cv2.cvtColor(img1,cv2.COLOR_BGR2GRAY)\n",
    "# Step 4:- Show the converted image to the user\n",
    "cv2.imshow(\"Converted Image\",gray)\n",
    "# Step 5:- Save the image to the drive\n",
    "cv2.imwrite(\"Grey_Car.jpeg\",gray)"
   ]
  },
  {
   "cell_type": "markdown",
   "metadata": {},
   "source": [
    "### Program to convert an image into RGB"
   ]
  },
  {
   "cell_type": "code",
   "execution_count": 17,
   "metadata": {},
   "outputs": [
    {
     "data": {
      "text/plain": [
       "True"
      ]
     },
     "execution_count": 17,
     "metadata": {},
     "output_type": "execute_result"
    }
   ],
   "source": [
    "# Step 1:- Import the required packages\n",
    "import cv2\n",
    "# Step 2:- Load the images\n",
    "img1=cv2.imread(\"Car.jpeg\",1)\n",
    "# Step 3:-  Convert the color into HSV\n",
    "rgb=cv2.cvtColor(img1,cv2.COLOR_BGR2RGB)\n",
    "# Step 4:- Show the converted image to the user\n",
    "cv2.imshow(\"Converted Image\",rgb)\n",
    "# Step 5:- Save the image to the drive\n",
    "cv2.imwrite(\"RGBimage.jpeg\",rgb)"
   ]
  },
  {
   "cell_type": "markdown",
   "metadata": {},
   "source": [
    "### Program to convert an image into YUV"
   ]
  },
  {
   "cell_type": "code",
   "execution_count": 18,
   "metadata": {},
   "outputs": [
    {
     "data": {
      "text/plain": [
       "True"
      ]
     },
     "execution_count": 18,
     "metadata": {},
     "output_type": "execute_result"
    }
   ],
   "source": [
    "# Step 1:- Import the required packages\n",
    "import cv2\n",
    "# Step 2:- Load the images\n",
    "img1=cv2.imread(\"Grey_Car.jpeg\",1)\n",
    "# Step 3:-  Convert the color into YUV\n",
    "yuv=cv2.cvtColor(img1,cv2.COLOR_BGR2YUV)\n",
    "# Step 4:- Show the converted image to the user\n",
    "cv2.imshow(\"Converted Image\",yuv)\n",
    "# Step 5:- Save the image to the drive\n",
    "cv2.imwrite(\"YUVimage.jpeg\",yuv)"
   ]
  },
  {
   "cell_type": "code",
   "execution_count": null,
   "metadata": {
    "collapsed": true
   },
   "outputs": [],
   "source": []
  }
 ],
 "metadata": {
  "kernelspec": {
   "display_name": "Python 3",
   "language": "python",
   "name": "python3"
  },
  "language_info": {
   "codemirror_mode": {
    "name": "ipython",
    "version": 3
   },
   "file_extension": ".py",
   "mimetype": "text/x-python",
   "name": "python",
   "nbconvert_exporter": "python",
   "pygments_lexer": "ipython3",
   "version": "3.6.3"
  }
 },
 "nbformat": 4,
 "nbformat_minor": 2
}
